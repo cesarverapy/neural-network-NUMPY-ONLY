{
 "cells": [
  {
   "cell_type": "markdown",
   "metadata": {},
   "source": [
    "libraries"
   ]
  },
  {
   "cell_type": "code",
   "execution_count": 122,
   "metadata": {},
   "outputs": [],
   "source": [
    "import numpy as np\n",
    "import matplotlib.pyplot as plt\n",
    "from data import get_mnist"
   ]
  },
  {
   "cell_type": "markdown",
   "metadata": {},
   "source": [
    "loading the mnist dataset\n",
    "\n",
    "> images represent the input data, 28x28 matrix flattened, thats why 784 features per image\n",
    "\n",
    "> labels are the corresponding digits from 0 to 9"
   ]
  },
  {
   "cell_type": "code",
   "execution_count": 123,
   "metadata": {},
   "outputs": [],
   "source": [
    "images, labels = get_mnist()"
   ]
  },
  {
   "cell_type": "markdown",
   "metadata": {},
   "source": [
    "divide the dataset"
   ]
  },
  {
   "cell_type": "code",
   "execution_count": 124,
   "metadata": {},
   "outputs": [],
   "source": [
    "train_size = int(0.8 * images.shape[0])\n",
    "x_train, x_val = images[:train_size], images[train_size:]\n",
    "y_train, y_val = labels[:train_size], labels[train_size:]"
   ]
  },
  {
   "cell_type": "markdown",
   "metadata": {},
   "source": [
    "initialization of the weights"
   ]
  },
  {
   "cell_type": "code",
   "execution_count": 125,
   "metadata": {},
   "outputs": [],
   "source": [
    "w_i_h = np.random.uniform(-0.5, 0.5, (64, 784))\n",
    "w_i_2 = np.random.uniform(0.5, 0.5,(32, 64))\n",
    "w_h_o = np.random.uniform(-0.5, 0.5, (10, 32))"
   ]
  },
  {
   "cell_type": "markdown",
   "metadata": {},
   "source": [
    "initialization of the bias"
   ]
  },
  {
   "cell_type": "code",
   "execution_count": 126,
   "metadata": {},
   "outputs": [],
   "source": [
    "b_i_h = np.zeros((64, 1))\n",
    "b_h1_h2 = np.zeros((32, 1))\n",
    "b_h_o = np.zeros((10, 1))"
   ]
  },
  {
   "cell_type": "markdown",
   "metadata": {},
   "source": [
    "training specs"
   ]
  },
  {
   "cell_type": "code",
   "execution_count": 127,
   "metadata": {},
   "outputs": [],
   "source": [
    "learn_rate = 0.01\n",
    "nr_correct = 0"
   ]
  },
  {
   "cell_type": "markdown",
   "metadata": {},
   "source": [
    "training"
   ]
  },
  {
   "cell_type": "code",
   "execution_count": null,
   "metadata": {},
   "outputs": [],
   "source": [
    "epochs = 3 # How many times the nn trains"
   ]
  },
  {
   "cell_type": "markdown",
   "metadata": {},
   "source": [
    "training loop"
   ]
  },
  {
   "cell_type": "code",
   "execution_count": null,
   "metadata": {},
   "outputs": [
    {
     "name": "stdout",
     "output_type": "stream",
     "text": [
      "Epoch 1: Train Accuracy: 87.52%\n",
      "Epoch 2: Train Accuracy: 93.35%\n",
      "Epoch 3: Train Accuracy: 94.74%\n"
     ]
    }
   ],
   "source": [
    "for epoch in range(epochs):\n",
    "    nr_correct = 0  \n",
    "    \n",
    "    for img, l in zip(x_train, y_train):\n",
    "        img.shape += (1,)\n",
    "        l.shape += (1,)\n",
    "\n",
    "        # Input Layer\n",
    "        h_pre = b_i_h + w_i_h @ img\n",
    "        h = 1 / (1 + np.exp(-h_pre))  \n",
    "\n",
    "        # Forward Propagation hidden 1 ---> hidden 2\n",
    "        h_pre2 = b_h1_h2 + w_i_2 @ img\n",
    "        h2 = 1 / (1 + np.exp(-h_pre2))\n",
    "\n",
    "        # Forward Propagation hidden 2 ---> output\n",
    "        o_pre = b_h_o + w_h_o @ h2\n",
    "        o = 1 / (1 + np.exp(-o_pre))\n",
    "        \n",
    "        # Counts right guesses\n",
    "        if np.argmax(o) == np.argmax(l):\n",
    "            nr_correct += 1  \n",
    "\n",
    "        # Backpropagation\n",
    "        delta_o = o - l\n",
    "        w_h_o += -learn_rate * delta_o @ np.transpose(h)\n",
    "        b_h_o += -learn_rate * delta_o\n",
    "\n",
    "        delta_h_2 = np.transpose(w_h_o) @ delta_o * (h2 * (1 - h2))\n",
    "        w_i_2 += -learn_rate * delta_h_2 @ np.transpose(img)\n",
    "        b_h1_h2 += -learn_rate * delta_h_2\n",
    "\n",
    "        delta_h = np.transpose(w_h_o) @ delta_o * (h * (1 - h))\n",
    "        w_i_h += -learn_rate * delta_h @ np.transpose(img)\n",
    "        b_i_h += -learn_rate * delta_h\n",
    "\n",
    "\n",
    "\n",
    "    train_accuracy = (nr_correct / len(x_train)) * 100\n",
    "    print(f\"Epoch {epoch+1}: Train Accuracy: {round(train_accuracy, 2)}%\")\n"
   ]
  },
  {
   "cell_type": "markdown",
   "metadata": {},
   "source": [
    "overfitting evaluation"
   ]
  },
  {
   "cell_type": "code",
   "execution_count": 130,
   "metadata": {},
   "outputs": [
    {
     "name": "stdout",
     "output_type": "stream",
     "text": [
      "Validation Accuracy: 95.08%\n"
     ]
    }
   ],
   "source": [
    "nr_correct_val = 0\n",
    "for img, l in zip(x_val, y_val):\n",
    "    img.shape += (1,)\n",
    "\n",
    "    # forward propagation\n",
    "    h_pre = b_i_h + w_i_h @ img\n",
    "    h = 1 / (1 + np.exp(-h_pre))  \n",
    "\n",
    "    o_pre = b_h_o + w_h_o @ h\n",
    "    o = 1 / (1 + np.exp(-o_pre))  \n",
    "\n",
    "    if np.argmax(o) == np.argmax(l):\n",
    "        nr_correct_val += 1  \n",
    "        \n",
    "val_accuracy = (nr_correct_val / len(x_val)) * 100\n",
    "print(f\"Validation Accuracy: {round(val_accuracy, 2)}%\")\n"
   ]
  },
  {
   "cell_type": "markdown",
   "metadata": {},
   "source": [
    "show results"
   ]
  },
  {
   "cell_type": "code",
   "execution_count": null,
   "metadata": {},
   "outputs": [
    {
     "ename": "ValueError",
     "evalue": "invalid literal for int() with base 10: ''",
     "output_type": "error",
     "traceback": [
      "\u001b[31m---------------------------------------------------------------------------\u001b[39m",
      "\u001b[31mValueError\u001b[39m                                Traceback (most recent call last)",
      "\u001b[36mCell\u001b[39m\u001b[36m \u001b[39m\u001b[32mIn[131]\u001b[39m\u001b[32m, line 2\u001b[39m\n\u001b[32m      1\u001b[39m \u001b[38;5;28;01mwhile\u001b[39;00m \u001b[38;5;28;01mTrue\u001b[39;00m:\n\u001b[32m----> \u001b[39m\u001b[32m2\u001b[39m     index = \u001b[38;5;28;43mint\u001b[39;49m\u001b[43m(\u001b[49m\u001b[38;5;28;43minput\u001b[39;49m\u001b[43m(\u001b[49m\u001b[33;43m\"\u001b[39;49m\u001b[33;43mEnter a number between 0 and 59999: \u001b[39;49m\u001b[33;43m\"\u001b[39;49m\u001b[43m)\u001b[49m\u001b[43m)\u001b[49m\n\u001b[32m      3\u001b[39m     img = images[index]\n\u001b[32m      4\u001b[39m     true_label = np.argmax(labels[index])\n",
      "\u001b[31mValueError\u001b[39m: invalid literal for int() with base 10: ''"
     ]
    }
   ],
   "source": [
    "while True:\n",
    "    index = int(input(\"Enter a number between 0 and 59999: \"))\n",
    "    img = images[index]\n",
    "    true_label = np.argmax(labels[index])\n",
    "    plt.imshow(img.reshape(28, 28), cmap=\"Greys\")\n",
    "\n",
    "    img.shape += (1,)\n",
    "\n",
    "    # forward propagation to predict\n",
    "    h_pre = b_i_h + w_i_h @ img.reshape(784, 1)\n",
    "    h = 1 / (1 + np.exp(-h_pre))  \n",
    "\n",
    "    o_pre = b_h_o + w_h_o @ h\n",
    "    o = 1 / (1 + np.exp(-o_pre))  \n",
    "\n",
    "    predicted_label = o.argmax()\n",
    "\n",
    "    # show results\n",
    "    plt.title(f\"Actual: {true_label} | Predicted: {predicted_label}\")\n",
    "    plt.show()\n"
   ]
  }
 ],
 "metadata": {
  "kernelspec": {
   "display_name": "Python 3",
   "language": "python",
   "name": "python3"
  },
  "language_info": {
   "codemirror_mode": {
    "name": "ipython",
    "version": 3
   },
   "file_extension": ".py",
   "mimetype": "text/x-python",
   "name": "python",
   "nbconvert_exporter": "python",
   "pygments_lexer": "ipython3",
   "version": "3.12.3"
  }
 },
 "nbformat": 4,
 "nbformat_minor": 2
}
